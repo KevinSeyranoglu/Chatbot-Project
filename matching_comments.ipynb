{
 "metadata": {
  "language_info": {
   "codemirror_mode": {
    "name": "ipython",
    "version": 3
   },
   "file_extension": ".py",
   "mimetype": "text/x-python",
   "name": "python",
   "nbconvert_exporter": "python",
   "pygments_lexer": "ipython3",
   "version": "3.8.8"
  },
  "orig_nbformat": 2,
  "kernelspec": {
   "name": "python388jvsc74a57bd0e04b1326f7adf898a3303c7cf3075ad0f4e0ffa89ed1c922eca04dd65938dc03",
   "display_name": "Python 3.8.8 64-bit ('myenv': conda)"
  }
 },
 "nbformat": 4,
 "nbformat_minor": 2,
 "cells": [
  {
   "cell_type": "code",
   "execution_count": 1,
   "metadata": {},
   "outputs": [
    {
     "output_type": "stream",
     "name": "stderr",
     "text": [
      "  0%|          | 0/7 [00:00<?, ?it/s]Loading data\n",
      "100%|██████████| 7/7 [00:17<00:00,  2.57s/it]\n",
      "Unique rows of df: 739623\n",
      "Number of  rows : 845356\n",
      "Number of  rows  after droping duplicates: 739623\n",
      "Number of  rows  (final): 739621\n",
      "Number of  rows  after sample: 739621\n"
     ]
    }
   ],
   "source": [
    "from os import listdir\n",
    "from os.path import isfile, join\n",
    "import pandas as pd \n",
    "import numpy as np \n",
    "from tqdm import tqdm\n",
    "import os\n",
    "import re \n",
    "\n",
    "\n",
    "\n",
    "path = os.getcwd()+'\\\\data\\\\redit_comments\\\\'\n",
    "onlyfiles = [f for f in listdir(path) if isfile(join(path, f))]\n",
    "data_files=[]\n",
    "for e in onlyfiles:\n",
    "    if '.csv' in e:\n",
    "        data_files.append(e)\n",
    "\n",
    "df=pd.DataFrame()\n",
    "\n",
    "print('Loading data')\n",
    "\n",
    "for e in tqdm(data_files):\n",
    "    df1=pd.read_csv(path+e,low_memory=False)\n",
    "\n",
    "    df=pd.concat([df,df1])\n",
    "\n",
    "print(F\"Unique rows of df: {len(df.body.unique())}\")\n",
    "print(F\"Number of  rows : {len(df)}\")\n",
    "\n",
    "#Droping duplicatees values in the desired column(s)\n",
    "df=df.drop_duplicates(subset = [\"body\"])\n",
    "print(F\"Number of  rows  after droping duplicates: {len(df)}\")\n",
    "\n",
    "\n",
    "remove_list=['[deleted]','[removed]']\n",
    "#drop all rows containing the elements of the list\n",
    "df = df[~df['body'].isin(remove_list)]\n",
    "\n",
    "print(F\"Number of  rows  (final): {len(df)}\")\n",
    "\n",
    "#Making a copy of the original text before cleaning the data\n",
    "\n",
    "#shuffle the rows getting only a fraction of the data\n",
    "df=df.sample(frac=1)\n",
    "\n",
    "\n",
    "print(F\"Number of  rows  after sample: {len(df)}\")\n",
    "\n",
    "df=df.reset_index(drop=True)"
   ]
  },
  {
   "cell_type": "code",
   "execution_count": 2,
   "metadata": {},
   "outputs": [],
   "source": [
    "df.body=df.body.str.replace(\"\\n\",\" \").replace(\"\\r\", \" \").replace('\"',\"'\")\n",
    "\n",
    "df=df[['body','parent_id','author_fullname','id','permalink','link_id','author','is_submitter','send_replies','score','subreddit']]\n"
   ]
  },
  {
   "cell_type": "code",
   "execution_count": 3,
   "metadata": {},
   "outputs": [
    {
     "output_type": "stream",
     "name": "stderr",
     "text": [
      "<ipython-input-3-12284bca5a7e>:1: FutureWarning: The default value of regex will change from True to False in a future version.\n",
      "  df.parent_id=df.parent_id.str.replace(r\".*_\",'')\n",
      "<ipython-input-3-12284bca5a7e>:2: FutureWarning: The default value of regex will change from True to False in a future version.\n",
      "  df.link_id=df.link_id.str.replace(r\".*_\",'')\n"
     ]
    }
   ],
   "source": [
    "df.parent_id=df.parent_id.str.replace(r\".*_\",'')\n",
    "df.link_id=df.link_id.str.replace(r\".*_\",'')"
   ]
  },
  {
   "source": [
    "# Cleaning the data"
   ],
   "cell_type": "markdown",
   "metadata": {}
  },
  {
   "cell_type": "code",
   "execution_count": 4,
   "metadata": {},
   "outputs": [],
   "source": [
    "def clean_text(txt):\n",
    "    txt = txt.lower()\n",
    "    txt = re.sub(r\"i'm\", \"i am\", txt)\n",
    "    txt = re.sub(r\"he's\", \"he is\", txt)\n",
    "    txt = re.sub(r\"she's\", \"she is\", txt)\n",
    "    txt = re.sub(r\"that's\", \"that is\", txt)\n",
    "    txt = re.sub(r\"what's\", \"what is\", txt)\n",
    "    txt = re.sub(r\"where's\", \"where is\", txt)\n",
    "    txt = re.sub(r\"\\'ll\", \" will\", txt)\n",
    "    txt = re.sub(r\"\\'ve\", \" have\", txt)\n",
    "    txt = re.sub(r\"\\'re\", \" are\", txt)\n",
    "    txt = re.sub(r\"\\'d\", \" would\", txt)\n",
    "    txt = re.sub(r\"won't\", \"will not\", txt)\n",
    "    txt = re.sub(r\"can't\", \"can not\", txt)\n",
    "    txt = re.sub(r\"[^\\w\\s]\", \"\", txt)\n",
    "    return txt"
   ]
  },
  {
   "cell_type": "code",
   "execution_count": 5,
   "metadata": {},
   "outputs": [],
   "source": [
    "df.body=df.body.astype(str).apply(lambda x: clean_text(x))\n"
   ]
  },
  {
   "cell_type": "code",
   "execution_count": 6,
   "metadata": {},
   "outputs": [
    {
     "output_type": "execute_result",
     "data": {
      "text/plain": [
       "0         any language that runs in a virtual machine or...\n",
       "1         its nice when you get really comfortable with ...\n",
       "2         thank you very much im sure this will lead me ...\n",
       "3         such a star would have a negative temperature ...\n",
       "4         vectors are 1dimensional so two vectors can sp...\n",
       "                                ...                        \n",
       "739616    i dont think taking field theory will clear up...\n",
       "739617    i have seen this before and i was still please...\n",
       "739618    there is always a backup plan i graduated from...\n",
       "739619    in finance especially commodities we deal with...\n",
       "739620    even if you can separate a class system from a...\n",
       "Name: body, Length: 739621, dtype: object"
      ]
     },
     "metadata": {},
     "execution_count": 6
    }
   ],
   "source": [
    "df.body\n"
   ]
  },
  {
   "cell_type": "code",
   "execution_count": 7,
   "metadata": {},
   "outputs": [
    {
     "output_type": "stream",
     "name": "stderr",
     "text": [
      "  7%|▋         | 54794/739621 [52:21<12:23:39, 15.35it/s]"
     ]
    }
   ],
   "source": [
    "comment_list=[]\n",
    "response_list=[]\n",
    "comment_score=[]\n",
    "response_score=[]\n",
    "ids=df.id\n",
    "\n",
    "get_matches=True\n",
    "\n",
    "if get_matches:\n",
    "    for i in tqdm(range(len(df))):\n",
    "        #comment=df2.loc[df2.id==ids[i]].body.values[0]\n",
    "        comment=df.iloc[i].body\n",
    "\n",
    "\n",
    "        #comment with the highest score \n",
    "        try:\n",
    "            argmax_score=df.loc[df.parent_id==ids[i]].score.idxmax()\n",
    "            response=df.iloc[argmax_score].body\n",
    "        #If there is no  response \n",
    "        except:\n",
    "            response=None\n",
    "        #print(response)\n",
    "\n",
    "        if response !=None:\n",
    "            comment_score.append(int(df.iloc[i].score))\n",
    "            comment_list.append(comment)\n",
    "\n",
    "            response_list.append(response)\n",
    "            response_score.append(int(df.iloc[argmax_score].score))\n",
    "\n",
    "data=pd.DataFrame([comment_list,comment_score,response_list,response_score]).T\n",
    "\n",
    "data.columns=['Comment','comment_score','response','response_score']\n",
    "#data.columns=['Comment','response',]\n",
    "\n",
    "data"
   ]
  },
  {
   "cell_type": "code",
   "execution_count": 44,
   "metadata": {},
   "outputs": [
    {
     "output_type": "execute_result",
     "data": {
      "text/plain": [
       "array(['sir this is wendys', 20,\n",
       "       'bet you can find some of this at a wendys if you look close enough ',\n",
       "       18], dtype=object)"
      ]
     },
     "metadata": {},
     "execution_count": 44
    }
   ],
   "source": [
    "data.iloc[308].values"
   ]
  },
  {
   "cell_type": "code",
   "execution_count": 3,
   "metadata": {},
   "outputs": [],
   "source": [
    "loc=os.getcwd()+'\\\\data\\\\paired_comments\\\\'\n",
    "\n",
    "save_to_csv=False\n",
    "if save_to_csv:\n",
    "    data.to_csv(loc)\n"
   ]
  },
  {
   "cell_type": "code",
   "execution_count": 13,
   "metadata": {},
   "outputs": [
    {
     "output_type": "execute_result",
     "data": {
      "text/plain": [
       "array(['i hope it is something that can not be predicted by any theorymodel we have that should give us a good boost',\n",
       "       'for 1 it is simply definitions we have defined the speed of light using a different definition of meter and using this maximum speed we decided to define the meter as being the distance that light travels in time t  1c for obvious reasons which is more consistent over time than using a stick',\n",
       "       'the panspermia hypothesis is also not saying that the elements needed for life came from space  its about complex organic molecules like sugars that make up the basis of the simplest lifeforms which have been shown to form in space and have been found in meteorites  its just saying the molecules didnt form on earth and life got kickstarted by molecules from somewhere else',\n",
       "       ...,\n",
       "       'come on man its feynman how can anyone not have time for feynman go on read them you know you want to ',\n",
       "       'doesnt the ground support your weight when you close your eyes  i really wonder how all those dopey ideas about qm got to the general public its a tragedy',\n",
       "       'i have heard some estimations that there are at least couple of souch outsiders skimming through our system every year but they are hard to detect unless they are close to the sun like that one so its a detection bias'],\n",
       "      dtype=object)"
      ]
     },
     "metadata": {},
     "execution_count": 13
    }
   ],
   "source": [
    "df.body.values"
   ]
  }
 ]
}