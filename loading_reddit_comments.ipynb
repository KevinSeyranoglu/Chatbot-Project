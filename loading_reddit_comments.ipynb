{
 "metadata": {
  "language_info": {
   "codemirror_mode": {
    "name": "ipython",
    "version": 3
   },
   "file_extension": ".py",
   "mimetype": "text/x-python",
   "name": "python",
   "nbconvert_exporter": "python",
   "pygments_lexer": "ipython3",
   "version": "3.8.8"
  },
  "orig_nbformat": 2,
  "kernelspec": {
   "name": "python388jvsc74a57bd0e04b1326f7adf898a3303c7cf3075ad0f4e0ffa89ed1c922eca04dd65938dc03",
   "display_name": "Python 3.8.8 64-bit ('myenv': conda)"
  }
 },
 "nbformat": 4,
 "nbformat_minor": 2,
 "cells": [
  {
   "cell_type": "code",
   "execution_count": 13,
   "metadata": {},
   "outputs": [
    {
     "output_type": "stream",
     "name": "stderr",
     "text": [
      "100%|██████████| 19/19 [00:34<00:00,  1.83s/it]\n",
      "100%|██████████| 19/19 [00:29<00:00,  1.56s/it]\n",
      "100%|██████████| 19/19 [00:35<00:00,  1.88s/it]\n"
     ]
    }
   ],
   "source": [
    "import requests\n",
    "import pandas as pd\n",
    "import numpy as np\n",
    "import re\n",
    "from tqdm import tqdm\n",
    "import time\n",
    "\n",
    "# The dir where you want to save the data\n",
    "root=r\"/media/pi/KINGSTON/ChatBotData\"\n",
    "\n",
    "Load_Data=True\n",
    "\n",
    "#If you want to save the data into a csv (Save_csv=True)\n",
    "Save_csv=False\n",
    "\n",
    "if Load_Data:\n",
    "    #getting the data from the reddit api\n",
    "    t=np.arange(1,20,1)\n",
    "    #df=pd.DataFrame()\n",
    "    arg=0\n",
    "\n",
    "    #List of the subredits that we want to scrape the data from\n",
    "    topics=['computerscience','biology','chemistry']\n",
    "    for top in topics:\n",
    "        df=pd.DataFrame()\n",
    "\n",
    "        for i in tqdm(range(len(t))):\n",
    "\n",
    "            #Time between each interation to avoid spaming the site with requests\n",
    "            time.sleep(1)\n",
    "\n",
    "            r=requests.get(F\"https://api.pushshift.io/reddit/comment/search/?subreddit={top}&after={(t[i]+1)}h&before={(t[i])}h&size=100\")\n",
    "\n",
    "\n",
    "            #Since the request is not always a succes \n",
    "            # ex: too many request in a short period of time would give us a 429 response (Too Many Requests)\n",
    "            if r.status_code==200:\n",
    "                df1=pd.DataFrame(r.json()['data'])\n",
    "                df1['L']=arg\n",
    "                df=df.append(df1,ignore_index=True,sort=False)\n",
    "            if i%200==0 and i>10:\n",
    "                print(F' Unique Rows: {len(df.body.unique())} ; Subreddit: {top}')\n",
    "        if Save_csv:\n",
    "            df.to_csv (root + '/' + F'{top}_data.csv', index = False, header=True)\n",
    "            \n",
    "        arg+=1\n"
   ]
  },
  {
   "cell_type": "code",
   "execution_count": 14,
   "metadata": {},
   "outputs": [
    {
     "output_type": "execute_result",
     "data": {
      "text/plain": [
       "   L all_awardings associated_award                author  \\\n",
       "0  2            []             None             [deleted]   \n",
       "1  2            []             None  Interesting-Noise888   \n",
       "2  2            []             None              benabart   \n",
       "3  2            []             None            user280102   \n",
       "4  2            []             None    BoxingDaycouchslug   \n",
       "\n",
       "  author_flair_background_color author_flair_css_class  \\\n",
       "0                                                 None   \n",
       "1                          None                   None   \n",
       "2                          None                   None   \n",
       "3                          None                   None   \n",
       "4                          None                   None   \n",
       "\n",
       "  author_flair_template_id author_flair_text author_flair_text_color awarders  \\\n",
       "0                     None              None                    dark       []   \n",
       "1                     None              None                    None       []   \n",
       "2                     None              None                    None       []   \n",
       "3                     None              None                    None       []   \n",
       "4                     None              None                    None       []   \n",
       "\n",
       "   ...  subreddit subreddit_id top_awarded_type  total_awards_received  \\\n",
       "0  ...  chemistry     t5_2qhf9             None                    0.0   \n",
       "1  ...  chemistry     t5_2qhf9             None                    0.0   \n",
       "2  ...  chemistry     t5_2qhf9             None                    0.0   \n",
       "3  ...  chemistry     t5_2qhf9             None                    0.0   \n",
       "4  ...  chemistry     t5_2qhf9             None                    0.0   \n",
       "\n",
       "  treatment_tags author_flair_richtext author_flair_type author_fullname  \\\n",
       "0             []                   NaN               NaN             NaN   \n",
       "1             []                    []              text     t2_9qjo3yy1   \n",
       "2             []                    []              text     t2_3fjz6o7v   \n",
       "3             []                    []              text     t2_axj3e6qm   \n",
       "4             []                    []              text     t2_4dd6o95n   \n",
       "\n",
       "  author_patreon_flair author_premium  \n",
       "0                  NaN            NaN  \n",
       "1                False          False  \n",
       "2                False          False  \n",
       "3                False          False  \n",
       "4                False          False  \n",
       "\n",
       "[5 rows x 36 columns]"
      ],
      "text/html": "<div>\n<style scoped>\n    .dataframe tbody tr th:only-of-type {\n        vertical-align: middle;\n    }\n\n    .dataframe tbody tr th {\n        vertical-align: top;\n    }\n\n    .dataframe thead th {\n        text-align: right;\n    }\n</style>\n<table border=\"1\" class=\"dataframe\">\n  <thead>\n    <tr style=\"text-align: right;\">\n      <th></th>\n      <th>L</th>\n      <th>all_awardings</th>\n      <th>associated_award</th>\n      <th>author</th>\n      <th>author_flair_background_color</th>\n      <th>author_flair_css_class</th>\n      <th>author_flair_template_id</th>\n      <th>author_flair_text</th>\n      <th>author_flair_text_color</th>\n      <th>awarders</th>\n      <th>...</th>\n      <th>subreddit</th>\n      <th>subreddit_id</th>\n      <th>top_awarded_type</th>\n      <th>total_awards_received</th>\n      <th>treatment_tags</th>\n      <th>author_flair_richtext</th>\n      <th>author_flair_type</th>\n      <th>author_fullname</th>\n      <th>author_patreon_flair</th>\n      <th>author_premium</th>\n    </tr>\n  </thead>\n  <tbody>\n    <tr>\n      <th>0</th>\n      <td>2</td>\n      <td>[]</td>\n      <td>None</td>\n      <td>[deleted]</td>\n      <td></td>\n      <td>None</td>\n      <td>None</td>\n      <td>None</td>\n      <td>dark</td>\n      <td>[]</td>\n      <td>...</td>\n      <td>chemistry</td>\n      <td>t5_2qhf9</td>\n      <td>None</td>\n      <td>0.0</td>\n      <td>[]</td>\n      <td>NaN</td>\n      <td>NaN</td>\n      <td>NaN</td>\n      <td>NaN</td>\n      <td>NaN</td>\n    </tr>\n    <tr>\n      <th>1</th>\n      <td>2</td>\n      <td>[]</td>\n      <td>None</td>\n      <td>Interesting-Noise888</td>\n      <td>None</td>\n      <td>None</td>\n      <td>None</td>\n      <td>None</td>\n      <td>None</td>\n      <td>[]</td>\n      <td>...</td>\n      <td>chemistry</td>\n      <td>t5_2qhf9</td>\n      <td>None</td>\n      <td>0.0</td>\n      <td>[]</td>\n      <td>[]</td>\n      <td>text</td>\n      <td>t2_9qjo3yy1</td>\n      <td>False</td>\n      <td>False</td>\n    </tr>\n    <tr>\n      <th>2</th>\n      <td>2</td>\n      <td>[]</td>\n      <td>None</td>\n      <td>benabart</td>\n      <td>None</td>\n      <td>None</td>\n      <td>None</td>\n      <td>None</td>\n      <td>None</td>\n      <td>[]</td>\n      <td>...</td>\n      <td>chemistry</td>\n      <td>t5_2qhf9</td>\n      <td>None</td>\n      <td>0.0</td>\n      <td>[]</td>\n      <td>[]</td>\n      <td>text</td>\n      <td>t2_3fjz6o7v</td>\n      <td>False</td>\n      <td>False</td>\n    </tr>\n    <tr>\n      <th>3</th>\n      <td>2</td>\n      <td>[]</td>\n      <td>None</td>\n      <td>user280102</td>\n      <td>None</td>\n      <td>None</td>\n      <td>None</td>\n      <td>None</td>\n      <td>None</td>\n      <td>[]</td>\n      <td>...</td>\n      <td>chemistry</td>\n      <td>t5_2qhf9</td>\n      <td>None</td>\n      <td>0.0</td>\n      <td>[]</td>\n      <td>[]</td>\n      <td>text</td>\n      <td>t2_axj3e6qm</td>\n      <td>False</td>\n      <td>False</td>\n    </tr>\n    <tr>\n      <th>4</th>\n      <td>2</td>\n      <td>[]</td>\n      <td>None</td>\n      <td>BoxingDaycouchslug</td>\n      <td>None</td>\n      <td>None</td>\n      <td>None</td>\n      <td>None</td>\n      <td>None</td>\n      <td>[]</td>\n      <td>...</td>\n      <td>chemistry</td>\n      <td>t5_2qhf9</td>\n      <td>None</td>\n      <td>0.0</td>\n      <td>[]</td>\n      <td>[]</td>\n      <td>text</td>\n      <td>t2_4dd6o95n</td>\n      <td>False</td>\n      <td>False</td>\n    </tr>\n  </tbody>\n</table>\n<p>5 rows × 36 columns</p>\n</div>"
     },
     "metadata": {},
     "execution_count": 14
    }
   ],
   "source": [
    "df.head(5)"
   ]
  },
  {
   "cell_type": "code",
   "execution_count": 16,
   "metadata": {},
   "outputs": [
    {
     "output_type": "execute_result",
     "data": {
      "text/plain": [
       "0                                            [deleted]\n",
       "1    Has anyone ever used Peptapon? Can you give me...\n",
       "2    it's fire but it's not fire but it's burning\\n...\n",
       "3                         Thank you! Great explanation\n",
       "4                      More a-meh-zing than amazing...\n",
       "Name: body, dtype: object"
      ]
     },
     "metadata": {},
     "execution_count": 16
    }
   ],
   "source": [
    "df.body.head(5)"
   ]
  }
 ]
}